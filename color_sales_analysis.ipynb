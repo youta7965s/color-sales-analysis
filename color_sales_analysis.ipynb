{
 "cells": [
  {
   "cell_type": "markdown",
   "id": "9e86f8ce",
   "metadata": {},
   "source": [
    "# 色 × 月別 売上分析（仮想データ）\n",
    "このNotebookでは、ファッションにおける色の季節傾向を仮想データを用いて可視化します。"
   ]
  },
  {
   "cell_type": "code",
   "execution_count": 1,
   "id": "0b1bb052",
   "metadata": {},
   "outputs": [
    {
     "ename": "ModuleNotFoundError",
     "evalue": "No module named 'pandas'",
     "output_type": "error",
     "traceback": [
      "\u001b[31m---------------------------------------------------------------------------\u001b[39m",
      "\u001b[31mModuleNotFoundError\u001b[39m                       Traceback (most recent call last)",
      "\u001b[36mCell\u001b[39m\u001b[36m \u001b[39m\u001b[32mIn[1]\u001b[39m\u001b[32m, line 1\u001b[39m\n\u001b[32m----> \u001b[39m\u001b[32m1\u001b[39m \u001b[38;5;28;01mimport\u001b[39;00m\u001b[38;5;250m \u001b[39m\u001b[34;01mpandas\u001b[39;00m\u001b[38;5;250m \u001b[39m\u001b[38;5;28;01mas\u001b[39;00m\u001b[38;5;250m \u001b[39m\u001b[34;01mpd\u001b[39;00m\n\u001b[32m      2\u001b[39m \u001b[38;5;28;01mimport\u001b[39;00m\u001b[38;5;250m \u001b[39m\u001b[34;01mmatplotlib\u001b[39;00m\u001b[34;01m.\u001b[39;00m\u001b[34;01mpyplot\u001b[39;00m\u001b[38;5;250m \u001b[39m\u001b[38;5;28;01mas\u001b[39;00m\u001b[38;5;250m \u001b[39m\u001b[34;01mplt\u001b[39;00m\n\u001b[32m      4\u001b[39m \u001b[38;5;66;03m# データの読み込み\u001b[39;00m\n",
      "\u001b[31mModuleNotFoundError\u001b[39m: No module named 'pandas'"
     ]
    }
   ],
   "source": [
    "import pandas as pd\n",
    "import matplotlib.pyplot as plt\n",
    "\n",
    "# データの読み込み\n",
    "df = pd.read_csv(\"color_sales_data.csv\")\n",
    "df.head()"
   ]
  },
  {
   "cell_type": "markdown",
   "id": "0981ef4e",
   "metadata": {},
   "source": [
    "## 月別・色別にピボット変換し、グラフ化"
   ]
  },
  {
   "cell_type": "code",
   "execution_count": null,
   "id": "3ea32ba0",
   "metadata": {},
   "outputs": [],
   "source": [
    "# 月順に並び替え\n",
    "months_order = ['Jan', 'Feb', 'Mar', 'Apr', 'May', 'Jun',\n",
    "                'Jul', 'Aug', 'Sep', 'Oct', 'Nov', 'Dec']\n",
    "pivot_df = df.pivot(index='Month', columns='Color', values='Sales')\n",
    "pivot_df = pivot_df.reindex(months_order)\n",
    "\n",
    "# 色の名前に対応するmatplotlibの色\n",
    "color_map = {\n",
    "    'White': 'lightgray',\n",
    "    'Black': 'black',\n",
    "    'Beige': 'tan',\n",
    "    'Blue': 'blue',\n",
    "    'Red': 'red',\n",
    "    'Green': 'green'\n",
    "}\n",
    "\n",
    "# 折れ線グラフを描画\n",
    "plt.figure(figsize=(10, 6))\n",
    "for color in pivot_df.columns:\n",
    "    plt.plot(pivot_df.index, pivot_df[color], label=color, color=color_map.get(color, 'gray'), linewidth=2)\n",
    "\n",
    "plt.title('Monthly Sales by Color (Simulated Data)', fontsize=14)\n",
    "plt.xlabel('Month')\n",
    "plt.ylabel('Sales')\n",
    "plt.legend(title=\"Color\")\n",
    "plt.xticks(rotation=45)\n",
    "plt.grid(True)\n",
    "plt.tight_layout()\n",
    "plt.show()"
   ]
  }
 ],
 "metadata": {
  "kernelspec": {
   "display_name": "env",
   "language": "python",
   "name": "python3"
  },
  "language_info": {
   "codemirror_mode": {
    "name": "ipython",
    "version": 3
   },
   "file_extension": ".py",
   "mimetype": "text/x-python",
   "name": "python",
   "nbconvert_exporter": "python",
   "pygments_lexer": "ipython3",
   "version": "3.12.1"
  }
 },
 "nbformat": 4,
 "nbformat_minor": 5
}
